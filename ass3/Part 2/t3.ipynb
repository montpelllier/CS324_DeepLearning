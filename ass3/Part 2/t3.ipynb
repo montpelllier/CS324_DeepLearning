{
 "cells": [
  {
   "cell_type": "code",
   "execution_count": 4,
   "metadata": {
    "collapsed": true,
    "ExecuteTime": {
     "end_time": "2023-06-01T15:32:16.622140200Z",
     "start_time": "2023-06-01T15:32:16.550335500Z"
    }
   },
   "outputs": [],
   "source": [
    "import torch\n",
    "from torchvision.utils import save_image\n",
    "from models import *\n",
    "from PIL import Image\n",
    "\n",
    "generator = SimpleGenerator(100)\n",
    "state_dict = torch.load('./mnist_generator.pt', map_location='cpu')\n",
    "generator.load_state_dict(state_dict)\n",
    "generator.eval()\n",
    "\n",
    "begin = torch.rand(100).view(1, 100)\n",
    "end = torch.rand(100).view(1, 100)\n",
    "img_begin = generator(begin).view(1, 1, 28, 28)\n",
    "img_end = generator(end).view(1, 1, 28, 28)\n",
    "\n",
    "save_image(img_begin, 'Interpolation/begin.png', nrow=1, normalize=True)\n",
    "save_image(img_end, 'Interpolation/end.png', nrow=1, normalize=True)"
   ]
  },
  {
   "cell_type": "code",
   "execution_count": 5,
   "outputs": [],
   "source": [
    "noises = []\n",
    "num = 9\n",
    "\n",
    "for i in range(1, num):\n",
    "    noise = begin + (i / num) * (end - begin)\n",
    "    noises.append(noise)\n",
    "\n",
    "for i in range(num-1):\n",
    "    img = generator(noises[i]).view(1, 1, 28, 28)\n",
    "    save_image(img, 'Interpolation/res{}.png'.format(i), nrow=num, normalize=True)"
   ],
   "metadata": {
    "collapsed": false,
    "ExecuteTime": {
     "end_time": "2023-06-01T15:33:16.472676400Z",
     "start_time": "2023-06-01T15:33:16.387905Z"
    }
   }
  },
  {
   "cell_type": "code",
   "execution_count": 8,
   "outputs": [
    {
     "data": {
      "text/plain": "<PIL.PngImagePlugin.PngImageFile image mode=RGB size=28x28>",
      "image/png": "[encoded data removed]"
     },
     "metadata": {},
     "output_type": "display_data"
    },
    {
     "data": {
      "text/plain": "<PIL.PngImagePlugin.PngImageFile image mode=RGB size=28x28>",
      "image/png": "[encoded data removed]"
     },
     "metadata": {},
     "output_type": "display_data"
    },
    {
     "data": {
      "text/plain": "<PIL.PngImagePlugin.PngImageFile image mode=RGB size=28x28>",
      "image/png": "[encoded data removed]"
     },
     "metadata": {},
     "output_type": "display_data"
    },
    {
     "data": {
      "text/plain": "<PIL.PngImagePlugin.PngImageFile image mode=RGB size=28x28>",
      "image/png": "[encoded data removed]"
     },
     "metadata": {},
     "output_type": "display_data"
    },
    {
     "data": {
      "text/plain": "<PIL.PngImagePlugin.PngImageFile image mode=RGB size=28x28>",
      "image/png": "[encoded data removed]"
     },
     "metadata": {},
     "output_type": "display_data"
    },
    {
     "data": {
      "text/plain": "<PIL.PngImagePlugin.PngImageFile image mode=RGB size=28x28>",
      "image/png": "[encoded data removed]"
     },
     "metadata": {},
     "output_type": "display_data"
    },
    {
     "data": {
      "text/plain": "<PIL.PngImagePlugin.PngImageFile image mode=RGB size=28x28>",
      "image/png": "[encoded data removed]"
     },
     "metadata": {},
     "output_type": "display_data"
    },
    {
     "data": {
      "text/plain": "<PIL.PngImagePlugin.PngImageFile image mode=RGB size=28x28>",
      "image/png": "[encoded data removed]"
     },
     "metadata": {},
     "output_type": "display_data"
    },
    {
     "data": {
      "text/plain": "<PIL.PngImagePlugin.PngImageFile image mode=RGB size=28x28>",
      "image/png": "[encoded data removed]"
     },
     "metadata": {},
     "output_type": "display_data"
    },
    {
     "data": {
      "text/plain": "<PIL.PngImagePlugin.PngImageFile image mode=RGB size=28x28>",
      "image/png": "[encoded data removed]"
     },
     "metadata": {},
     "output_type": "display_data"
    }
   ],
   "source": [
    "display(Image.open(\"./Interpolation/begin.png\"))\n",
    "for i in range(num-1):\n",
    "    path = 'Interpolation/res{}.png'.format(i)\n",
    "    display(Image.open(path))\n",
    "display(Image.open(\"./Interpolation/end.png\"))"
   ],
   "metadata": {
    "collapsed": false,
    "ExecuteTime": {
     "end_time": "2023-06-01T15:41:22.456608500Z",
     "start_time": "2023-06-01T15:41:22.405706200Z"
    }
   }
  },
  {
   "cell_type": "code",
   "execution_count": null,
   "outputs": [],
   "source": [],
   "metadata": {
    "collapsed": false
   }
  }
 ],
 "metadata": {
  "kernelspec": {
   "display_name": "Python 3",
   "language": "python",
   "name": "python3"
  },
  "language_info": {
   "codemirror_mode": {
    "name": "ipython",
    "version": 2
   },
   "file_extension": ".py",
   "mimetype": "text/x-python",
   "name": "python",
   "nbconvert_exporter": "python",
   "pygments_lexer": "ipython2",
   "version": "2.7.6"
  }
 },
 "nbformat": 4,
 "nbformat_minor": 0
}
