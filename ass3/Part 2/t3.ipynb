{
 "cells": [
  {
   "cell_type": "code",
   "execution_count": 47,
   "metadata": {
    "collapsed": true,
    "ExecuteTime": {
     "end_time": "2023-06-01T18:42:50.591375800Z",
     "start_time": "2023-06-01T18:42:50.543507700Z"
    }
   },
   "outputs": [],
   "source": [
    "import torch\n",
    "from torchvision.utils import save_image\n",
    "from models import *\n",
    "from PIL import Image\n",
    "\n",
    "generator = SimpleGenerator(100)\n",
    "state_dict = torch.load('./mnist_generator.pt', map_location='cpu')\n",
    "generator.load_state_dict(state_dict)\n",
    "generator.eval()\n",
    "\n",
    "begin = torch.rand(100).view(1, 100)\n",
    "end = torch.rand(100).view(1, 100)\n",
    "img_begin = generator(begin).view(1, 1, 28, 28)\n",
    "img_end = generator(end).view(1, 1, 28, 28)\n",
    "\n",
    "save_image(img_begin, 'Interpolation/begin.png', nrow=1, normalize=True)\n",
    "save_image(img_end, 'Interpolation/end.png', nrow=1, normalize=True)"
   ]
  },
  {
   "cell_type": "code",
   "execution_count": 48,
   "outputs": [],
   "source": [
    "noises = []\n",
    "num = 9\n",
    "\n",
    "for i in range(1, num):\n",
    "    noise = begin + (i / num) * (end - begin)\n",
    "    noises.append(noise)\n",
    "\n",
    "for i in range(num-1):\n",
    "    img = generator(noises[i]).view(1, 1, 28, 28)\n",
    "    save_image(img, 'Interpolation/res{}.png'.format(i), nrow=num, normalize=True)"
   ],
   "metadata": {
    "collapsed": false,
    "ExecuteTime": {
     "end_time": "2023-06-01T18:42:50.637253600Z",
     "start_time": "2023-06-01T18:42:50.595365Z"
    }
   }
  },
  {
   "cell_type": "code",
   "execution_count": 49,
   "outputs": [
    {
     "data": {
      "text/plain": "<PIL.PngImagePlugin.PngImageFile image mode=RGB size=28x28>",
      "image/png": "[encoded data removed]"
     },
     "metadata": {},
     "output_type": "display_data"
    },
    {
     "data": {
      "text/plain": "<PIL.PngImagePlugin.PngImageFile image mode=RGB size=28x28>",
      "image/png": "[encoded data removed]"
     },
     "metadata": {},
     "output_type": "display_data"
    },
    {
     "data": {
      "text/plain": "<PIL.PngImagePlugin.PngImageFile image mode=RGB size=28x28>",
      "image/png": "[encoded data removed]"
     },
     "metadata": {},
     "output_type": "display_data"
    },
    {
     "data": {
      "text/plain": "<PIL.PngImagePlugin.PngImageFile image mode=RGB size=28x28>",
      "image/png": "[encoded data removed]"
     },
     "metadata": {},
     "output_type": "display_data"
    },
    {
     "data": {
      "text/plain": "<PIL.PngImagePlugin.PngImageFile image mode=RGB size=28x28>",
      "image/png": "[encoded data removed]"
     },
     "metadata": {},
     "output_type": "display_data"
    },
    {
     "data": {
      "text/plain": "<PIL.PngImagePlugin.PngImageFile image mode=RGB size=28x28>",
      "image/png": "[encoded data removed]"
     },
     "metadata": {},
     "output_type": "display_data"
    },
    {
     "data": {
      "text/plain": "<PIL.PngImagePlugin.PngImageFile image mode=RGB size=28x28>",
      "image/png": "[encoded data removed]"
     },
     "metadata": {},
     "output_type": "display_data"
    },
    {
     "data": {
      "text/plain": "<PIL.PngImagePlugin.PngImageFile image mode=RGB size=28x28>",
      "image/png": "[encoded data removed]"
     },
     "metadata": {},
     "output_type": "display_data"
    },
    {
     "data": {
      "text/plain": "<PIL.PngImagePlugin.PngImageFile image mode=RGB size=28x28>",
      "image/png": "[encoded data removed]"
     },
     "metadata": {},
     "output_type": "display_data"
    },
    {
     "data": {
      "text/plain": "<PIL.PngImagePlugin.PngImageFile image mode=RGB size=28x28>",
      "image/png": "[encoded data removed]"
     },
     "metadata": {},
     "output_type": "display_data"
    }
   ],
   "source": [
    "display(Image.open(\"./Interpolation/begin.png\"))\n",
    "for i in range(num-1):\n",
    "    path = 'Interpolation/res{}.png'.format(i)\n",
    "    display(Image.open(path))\n",
    "display(Image.open(\"./Interpolation/end.png\"))"
   ],
   "metadata": {
    "collapsed": false,
    "ExecuteTime": {
     "end_time": "2023-06-01T18:42:50.690112Z",
     "start_time": "2023-06-01T18:42:50.641462600Z"
    }
   }
  },
  {
   "cell_type": "code",
   "execution_count": 49,
   "outputs": [],
   "source": [],
   "metadata": {
    "collapsed": false,
    "ExecuteTime": {
     "end_time": "2023-06-01T18:42:50.710181300Z",
     "start_time": "2023-06-01T18:42:50.687144100Z"
    }
   }
  }
 ],
 "metadata": {
  "kernelspec": {
   "display_name": "Python 3",
   "language": "python",
   "name": "python3"
  },
  "language_info": {
   "codemirror_mode": {
    "name": "ipython",
    "version": 2
   },
   "file_extension": ".py",
   "mimetype": "text/x-python",
   "name": "python",
   "nbconvert_exporter": "python",
   "pygments_lexer": "ipython2",
   "version": "2.7.6"
  }
 },
 "nbformat": 4,
 "nbformat_minor": 0
}
