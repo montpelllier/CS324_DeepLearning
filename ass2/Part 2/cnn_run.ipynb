{
 "cells": [
  {
   "cell_type": "code",
   "execution_count": 1,
   "metadata": {
    "collapsed": true,
    "ExecuteTime": {
     "start_time": "2023-04-13T18:00:41.599214Z",
     "end_time": "2023-04-13T18:03:17.991543Z"
    }
   },
   "outputs": [
    {
     "name": "stdout",
     "output_type": "stream",
     "text": [
      "Files already downloaded and verified\n",
      "Files already downloaded and verified\n",
      "using GPU NVIDIA GeForce GTX 970M\n",
      "Epoch [500/5000], Loss: 1.1068, Test Acc.: 57.6500 %, Train Acc.59.0080 %.\n"
     ]
    },
    {
     "name": "stderr",
     "output_type": "stream",
     "text": [
      "\n",
      "KeyboardInterrupt\n",
      "\n"
     ]
    }
   ],
   "source": [
    "%run cnn_train.py"
   ]
  },
  {
   "cell_type": "code",
   "execution_count": 4,
   "outputs": [
    {
     "name": "stdout",
     "output_type": "stream",
     "text": [
      "Files already downloaded and verified\n",
      "Files already downloaded and verified\n",
      "using GPU NVIDIA GeForce GTX 970M\n",
      "try to use optimizer SGD\n",
      "Unexpected exception formatting exception. Falling back to standard exception\n"
     ]
    },
    {
     "name": "stderr",
     "output_type": "stream",
     "text": [
      "Traceback (most recent call last):\n",
      "  File \"E:\\Progromming\\Python\\anaconda3\\envs\\AI\\lib\\site-packages\\IPython\\core\\interactiveshell.py\", line 2863, in safe_execfile\n",
      "    py3compat.execfile(\n",
      "  File \"E:\\Progromming\\Python\\anaconda3\\envs\\AI\\lib\\site-packages\\IPython\\utils\\py3compat.py\", line 55, in execfile\n",
      "    exec(compiler(f.read(), fname, \"exec\"), glob, loc)\n",
      "  File \"E:\\Progromming\\Python\\CS324_DeepLearning\\ass2\\Part 2\\cnn_train.py\", line 161, in <module>\n",
      "    main()\n",
      "  File \"E:\\Progromming\\Python\\CS324_DeepLearning\\ass2\\Part 2\\cnn_train.py\", line 141, in main\n",
      "    train(max_step, optimizer, lr, train_loader, freq, test_loader)\n",
      "  File \"E:\\Progromming\\Python\\CS324_DeepLearning\\ass2\\Part 2\\cnn_train.py\", line 87, in train\n",
      "    train_acc = get_acc(model, train_loader, device)\n",
      "  File \"E:\\Progromming\\Python\\CS324_DeepLearning\\ass2\\Part 2\\cnn_train.py\", line 32, in get_acc\n",
      "    outputs = model(images)\n",
      "  File \"E:\\Progromming\\Python\\anaconda3\\envs\\AI\\lib\\site-packages\\torch\\nn\\modules\\module.py\", line 1110, in _call_impl\n",
      "    return forward_call(*input, **kwargs)\n",
      "  File \"E:\\Progromming\\Python\\CS324_DeepLearning\\ass2\\Part 2\\cnn_model.py\", line 61, in forward\n",
      "    x = self.relu(bn(conv(x)))\n",
      "  File \"E:\\Progromming\\Python\\anaconda3\\envs\\AI\\lib\\site-packages\\torch\\nn\\modules\\module.py\", line 1110, in _call_impl\n",
      "    return forward_call(*input, **kwargs)\n",
      "  File \"E:\\Progromming\\Python\\anaconda3\\envs\\AI\\lib\\site-packages\\torch\\nn\\modules\\conv.py\", line 447, in forward\n",
      "    return self._conv_forward(input, self.weight, self.bias)\n",
      "  File \"E:\\Progromming\\Python\\anaconda3\\envs\\AI\\lib\\site-packages\\torch\\nn\\modules\\conv.py\", line 443, in _conv_forward\n",
      "    return F.conv2d(input, weight, bias, self.stride,\n",
      "KeyboardInterrupt\n",
      "\n",
      "During handling of the above exception, another exception occurred:\n",
      "\n",
      "Traceback (most recent call last):\n",
      "  File \"E:\\Progromming\\Python\\anaconda3\\envs\\AI\\lib\\site-packages\\IPython\\core\\interactiveshell.py\", line 2102, in showtraceback\n",
      "    stb = self.InteractiveTB.structured_traceback(\n",
      "  File \"E:\\Progromming\\Python\\anaconda3\\envs\\AI\\lib\\site-packages\\IPython\\core\\ultratb.py\", line 1310, in structured_traceback\n",
      "    return FormattedTB.structured_traceback(\n",
      "  File \"E:\\Progromming\\Python\\anaconda3\\envs\\AI\\lib\\site-packages\\IPython\\core\\ultratb.py\", line 1199, in structured_traceback\n",
      "    return VerboseTB.structured_traceback(\n",
      "  File \"E:\\Progromming\\Python\\anaconda3\\envs\\AI\\lib\\site-packages\\IPython\\core\\ultratb.py\", line 1052, in structured_traceback\n",
      "    formatted_exception = self.format_exception_as_a_whole(etype, evalue, etb, number_of_lines_of_context,\n",
      "  File \"E:\\Progromming\\Python\\anaconda3\\envs\\AI\\lib\\site-packages\\IPython\\core\\ultratb.py\", line 978, in format_exception_as_a_whole\n",
      "    frames.append(self.format_record(record))\n",
      "  File \"E:\\Progromming\\Python\\anaconda3\\envs\\AI\\lib\\site-packages\\IPython\\core\\ultratb.py\", line 878, in format_record\n",
      "    frame_info.lines, Colors, self.has_colors, lvals\n",
      "  File \"E:\\Progromming\\Python\\anaconda3\\envs\\AI\\lib\\site-packages\\IPython\\core\\ultratb.py\", line 712, in lines\n",
      "    return self._sd.lines\n",
      "  File \"E:\\Progromming\\Python\\anaconda3\\envs\\AI\\lib\\site-packages\\stack_data\\utils.py\", line 145, in cached_property_wrapper\n",
      "    value = obj.__dict__[self.func.__name__] = self.func(obj)\n",
      "  File \"E:\\Progromming\\Python\\anaconda3\\envs\\AI\\lib\\site-packages\\stack_data\\core.py\", line 698, in lines\n",
      "    pieces = self.included_pieces\n",
      "  File \"E:\\Progromming\\Python\\anaconda3\\envs\\AI\\lib\\site-packages\\stack_data\\utils.py\", line 145, in cached_property_wrapper\n",
      "    value = obj.__dict__[self.func.__name__] = self.func(obj)\n",
      "  File \"E:\\Progromming\\Python\\anaconda3\\envs\\AI\\lib\\site-packages\\stack_data\\core.py\", line 649, in included_pieces\n",
      "    pos = scope_pieces.index(self.executing_piece)\n",
      "  File \"E:\\Progromming\\Python\\anaconda3\\envs\\AI\\lib\\site-packages\\stack_data\\utils.py\", line 145, in cached_property_wrapper\n",
      "    value = obj.__dict__[self.func.__name__] = self.func(obj)\n",
      "  File \"E:\\Progromming\\Python\\anaconda3\\envs\\AI\\lib\\site-packages\\stack_data\\core.py\", line 628, in executing_piece\n",
      "    return only(\n",
      "  File \"E:\\Progromming\\Python\\anaconda3\\envs\\AI\\lib\\site-packages\\executing\\executing.py\", line 164, in only\n",
      "    raise NotOneValueFound('Expected one value, found 0')\n",
      "executing.executing.NotOneValueFound: Expected one value, found 0\n"
     ]
    }
   ],
   "source": [
    "%run cnn_train.py --optimizer SGD"
   ],
   "metadata": {
    "collapsed": false,
    "ExecuteTime": {
     "start_time": "2023-04-13T18:15:01.580673Z",
     "end_time": "2023-04-13T18:15:47.350711Z"
    }
   }
  },
  {
   "cell_type": "code",
   "execution_count": null,
   "outputs": [],
   "source": [],
   "metadata": {
    "collapsed": false
   }
  }
 ],
 "metadata": {
  "kernelspec": {
   "name": "python3",
   "language": "python",
   "display_name": "Python 3 (ipykernel)"
  },
  "language_info": {
   "codemirror_mode": {
    "name": "ipython",
    "version": 2
   },
   "file_extension": ".py",
   "mimetype": "text/x-python",
   "name": "python",
   "nbconvert_exporter": "python",
   "pygments_lexer": "ipython2",
   "version": "2.7.6"
  }
 },
 "nbformat": 4,
 "nbformat_minor": 0
}
